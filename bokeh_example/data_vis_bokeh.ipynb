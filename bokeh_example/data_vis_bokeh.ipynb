{
 "cells": [
  {
   "cell_type": "code",
   "execution_count": 1,
   "id": "1c699598-9df3-4bc4-887d-850f710d6095",
   "metadata": {
    "tags": []
   },
   "outputs": [],
   "source": [
    "from bokeh.plotting import figure, output_file, show, save, ColumnDataSource\n",
    "from bokeh.models.tools import HoverTool\n",
    "from bokeh.transform import factor_cmap\n",
    "from bokeh.palettes import Blues8\n",
    "from bokeh.layouts import rows, gridplot\n",
    "import pandas as pd\n",
    "import numpy as np\n",
    "import requests"
   ]
  },
  {
   "cell_type": "code",
   "execution_count": 2,
   "id": "a35d0667-8d95-45cc-b2e9-8cbe5d62f446",
   "metadata": {},
   "outputs": [],
   "source": [
    "output_file('index.html')"
   ]
  },
  {
   "cell_type": "code",
   "execution_count": 3,
   "id": "ee2305fc-ff5a-4a9d-9d29-713ec517db00",
   "metadata": {
    "tags": []
   },
   "outputs": [],
   "source": [
    "x = [1,2,3,4,5]\n",
    "y = [4,6,2,4,3]"
   ]
  },
  {
   "cell_type": "code",
   "execution_count": 4,
   "id": "2eb0eed6-e664-4095-9d9b-8e96dd3b237b",
   "metadata": {
    "tags": []
   },
   "outputs": [],
   "source": [
    "# Add plot\n",
    "p = figure(\n",
    "    title='Example Plot',\n",
    "    x_axis_label='X Axis', \n",
    "    y_axis_label='Y Axis'\n",
    ")"
   ]
  },
  {
   "cell_type": "code",
   "execution_count": 5,
   "id": "5bb73ba0-60ea-4707-bf7b-d9cd6f943248",
   "metadata": {
    "tags": []
   },
   "outputs": [
    {
     "data": {
      "text/html": [
       "<div style=\"display: table;\"><div style=\"display: table-row;\"><div style=\"display: table-cell;\"><b title=\"bokeh.models.renderers.glyph_renderer.GlyphRenderer\">GlyphRenderer</b>(</div><div style=\"display: table-cell;\">id&nbsp;=&nbsp;'p1036', <span id=\"p1040\" style=\"cursor: pointer;\">&hellip;)</span></div></div><div class=\"p1039\" style=\"display: none;\"><div style=\"display: table-cell;\"></div><div style=\"display: table-cell;\">coordinates&nbsp;=&nbsp;None,</div></div><div class=\"p1039\" style=\"display: none;\"><div style=\"display: table-cell;\"></div><div style=\"display: table-cell;\">data_source&nbsp;=&nbsp;ColumnDataSource(id='p1030', ...),</div></div><div class=\"p1039\" style=\"display: none;\"><div style=\"display: table-cell;\"></div><div style=\"display: table-cell;\">glyph&nbsp;=&nbsp;Line(id='p1033', ...),</div></div><div class=\"p1039\" style=\"display: none;\"><div style=\"display: table-cell;\"></div><div style=\"display: table-cell;\">group&nbsp;=&nbsp;None,</div></div><div class=\"p1039\" style=\"display: none;\"><div style=\"display: table-cell;\"></div><div style=\"display: table-cell;\">hover_glyph&nbsp;=&nbsp;None,</div></div><div class=\"p1039\" style=\"display: none;\"><div style=\"display: table-cell;\"></div><div style=\"display: table-cell;\">js_event_callbacks&nbsp;=&nbsp;{},</div></div><div class=\"p1039\" style=\"display: none;\"><div style=\"display: table-cell;\"></div><div style=\"display: table-cell;\">js_property_callbacks&nbsp;=&nbsp;{},</div></div><div class=\"p1039\" style=\"display: none;\"><div style=\"display: table-cell;\"></div><div style=\"display: table-cell;\">level&nbsp;=&nbsp;'glyph',</div></div><div class=\"p1039\" style=\"display: none;\"><div style=\"display: table-cell;\"></div><div style=\"display: table-cell;\">muted&nbsp;=&nbsp;False,</div></div><div class=\"p1039\" style=\"display: none;\"><div style=\"display: table-cell;\"></div><div style=\"display: table-cell;\">muted_glyph&nbsp;=&nbsp;Line(id='p1035', ...),</div></div><div class=\"p1039\" style=\"display: none;\"><div style=\"display: table-cell;\"></div><div style=\"display: table-cell;\">name&nbsp;=&nbsp;None,</div></div><div class=\"p1039\" style=\"display: none;\"><div style=\"display: table-cell;\"></div><div style=\"display: table-cell;\">nonselection_glyph&nbsp;=&nbsp;Line(id='p1034', ...),</div></div><div class=\"p1039\" style=\"display: none;\"><div style=\"display: table-cell;\"></div><div style=\"display: table-cell;\">propagate_hover&nbsp;=&nbsp;False,</div></div><div class=\"p1039\" style=\"display: none;\"><div style=\"display: table-cell;\"></div><div style=\"display: table-cell;\">selection_glyph&nbsp;=&nbsp;'auto',</div></div><div class=\"p1039\" style=\"display: none;\"><div style=\"display: table-cell;\"></div><div style=\"display: table-cell;\">subscribed_events&nbsp;=&nbsp;PropertyValueSet(),</div></div><div class=\"p1039\" style=\"display: none;\"><div style=\"display: table-cell;\"></div><div style=\"display: table-cell;\">syncable&nbsp;=&nbsp;True,</div></div><div class=\"p1039\" style=\"display: none;\"><div style=\"display: table-cell;\"></div><div style=\"display: table-cell;\">tags&nbsp;=&nbsp;[],</div></div><div class=\"p1039\" style=\"display: none;\"><div style=\"display: table-cell;\"></div><div style=\"display: table-cell;\">view&nbsp;=&nbsp;CDSView(id='p1037', ...),</div></div><div class=\"p1039\" style=\"display: none;\"><div style=\"display: table-cell;\"></div><div style=\"display: table-cell;\">visible&nbsp;=&nbsp;True,</div></div><div class=\"p1039\" style=\"display: none;\"><div style=\"display: table-cell;\"></div><div style=\"display: table-cell;\">x_range_name&nbsp;=&nbsp;'default',</div></div><div class=\"p1039\" style=\"display: none;\"><div style=\"display: table-cell;\"></div><div style=\"display: table-cell;\">y_range_name&nbsp;=&nbsp;'default')</div></div></div>\n",
       "<script>\n",
       "(function() {\n",
       "  let expanded = false;\n",
       "  const ellipsis = document.getElementById(\"p1040\");\n",
       "  ellipsis.addEventListener(\"click\", function() {\n",
       "    const rows = document.getElementsByClassName(\"p1039\");\n",
       "    for (let i = 0; i < rows.length; i++) {\n",
       "      const el = rows[i];\n",
       "      el.style.display = expanded ? \"none\" : \"table-row\";\n",
       "    }\n",
       "    ellipsis.innerHTML = expanded ? \"&hellip;)\" : \"&lsaquo;&lsaquo;&lsaquo;\";\n",
       "    expanded = !expanded;\n",
       "  });\n",
       "})();\n",
       "</script>\n"
      ],
      "text/plain": [
       "GlyphRenderer(id='p1036', ...)"
      ]
     },
     "execution_count": 5,
     "metadata": {},
     "output_type": "execute_result"
    }
   ],
   "source": [
    "# Render glyph\n",
    "p.line(x, y, line_width=2)"
   ]
  },
  {
   "cell_type": "code",
   "execution_count": 6,
   "id": "d1c73b38-5d04-4f3c-88ca-014715953567",
   "metadata": {
    "tags": []
   },
   "outputs": [],
   "source": [
    "show(p)"
   ]
  },
  {
   "cell_type": "markdown",
   "id": "1a88a19c-afad-4671-895c-bf101993e5a2",
   "metadata": {
    "tags": []
   },
   "source": [
    "### Cars"
   ]
  },
  {
   "cell_type": "code",
   "execution_count": 7,
   "id": "230138d3-a160-4053-9d8a-33e368573bf7",
   "metadata": {
    "tags": []
   },
   "outputs": [],
   "source": [
    "# Read file and put in a dataframe\n",
    "cars_df = pd.read_csv('cars.csv')"
   ]
  },
  {
   "cell_type": "code",
   "execution_count": 8,
   "id": "fa018ee1-75f5-4d18-bd95-e57b4c9e90a1",
   "metadata": {
    "tags": []
   },
   "outputs": [],
   "source": [
    "# CreateColumnDataSource from data frame\n",
    "source = ColumnDataSource(cars_df)"
   ]
  },
  {
   "cell_type": "code",
   "execution_count": 9,
   "id": "f20b05f8-47b2-4259-9106-94c3c855baef",
   "metadata": {
    "tags": []
   },
   "outputs": [
    {
     "data": {
      "text/plain": [
       "Index(['Car', 'Horsepower', 'Price', 'Image'], dtype='object')"
      ]
     },
     "execution_count": 9,
     "metadata": {},
     "output_type": "execute_result"
    }
   ],
   "source": [
    "# List columns\n",
    "cars_df.columns"
   ]
  },
  {
   "cell_type": "code",
   "execution_count": 10,
   "id": "72f1882f-19a7-480f-a83f-dd06e45c1d1f",
   "metadata": {
    "tags": []
   },
   "outputs": [
    {
     "data": {
      "text/plain": [
       "8"
      ]
     },
     "metadata": {},
     "output_type": "display_data"
    },
    {
     "data": {
      "text/html": [
       "<div>\n",
       "<style scoped>\n",
       "    .dataframe tbody tr th:only-of-type {\n",
       "        vertical-align: middle;\n",
       "    }\n",
       "\n",
       "    .dataframe tbody tr th {\n",
       "        vertical-align: top;\n",
       "    }\n",
       "\n",
       "    .dataframe thead th {\n",
       "        text-align: right;\n",
       "    }\n",
       "</style>\n",
       "<table border=\"1\" class=\"dataframe\">\n",
       "  <thead>\n",
       "    <tr style=\"text-align: right;\">\n",
       "      <th></th>\n",
       "      <th>Car</th>\n",
       "      <th>Horsepower</th>\n",
       "      <th>Price</th>\n",
       "      <th>Image</th>\n",
       "    </tr>\n",
       "  </thead>\n",
       "  <tbody>\n",
       "    <tr>\n",
       "      <th>0</th>\n",
       "      <td>Hennessey Venom F5</td>\n",
       "      <td>1600</td>\n",
       "      <td>$1.6M</td>\n",
       "      <td>https://autowise.com/wp-content/uploads/2018/0...</td>\n",
       "    </tr>\n",
       "    <tr>\n",
       "      <th>1</th>\n",
       "      <td>Koenigsegg Regera</td>\n",
       "      <td>1500</td>\n",
       "      <td>$2M</td>\n",
       "      <td>https://autowise.com/wp-content/uploads/2018/0...</td>\n",
       "    </tr>\n",
       "  </tbody>\n",
       "</table>\n",
       "</div>"
      ],
      "text/plain": [
       "                  Car  Horsepower  Price  \\\n",
       "0  Hennessey Venom F5        1600  $1.6M   \n",
       "1   Koenigsegg Regera        1500    $2M   \n",
       "\n",
       "                                               Image  \n",
       "0  https://autowise.com/wp-content/uploads/2018/0...  \n",
       "1  https://autowise.com/wp-content/uploads/2018/0...  "
      ]
     },
     "execution_count": 10,
     "metadata": {},
     "output_type": "execute_result"
    }
   ],
   "source": [
    "# Look at table\n",
    "display(len(cars_df))\n",
    "cars_df.head(2)"
   ]
  },
  {
   "cell_type": "code",
   "execution_count": 11,
   "id": "0823abc1-ab81-48a4-a1cd-1a1b5c1f9da0",
   "metadata": {
    "tags": []
   },
   "outputs": [],
   "source": [
    "# Set variables individually\n",
    "cars = cars_df['Car']\n",
    "horsepower = cars_df['Horsepower']\n",
    "prices = cars_df['Price']\n",
    "images = cars_df['Image']"
   ]
  },
  {
   "cell_type": "code",
   "execution_count": 12,
   "id": "b2972058-39da-444b-896e-758658cf1de6",
   "metadata": {},
   "outputs": [],
   "source": [
    "# Plot\n",
    "p = figure(\n",
    "    y_range = cars,\n",
    "    width = 800,\n",
    "    height = 600,\n",
    "    title = 'Cars - Top Horsepower',\n",
    "    tools = 'pan,box_select,zoom_in,zoom_out,save,reset',\n",
    "    x_axis_label = 'Horsepower'\n",
    "\n",
    ")"
   ]
  },
  {
   "cell_type": "code",
   "execution_count": 13,
   "id": "dd1ba89f-1b2a-4e55-8554-40c2e51cf8fc",
   "metadata": {
    "tags": []
   },
   "outputs": [
    {
     "data": {
      "text/html": [
       "<div style=\"display: table;\"><div style=\"display: table-row;\"><div style=\"display: table-cell;\"><b title=\"bokeh.models.renderers.glyph_renderer.GlyphRenderer\">GlyphRenderer</b>(</div><div style=\"display: table-cell;\">id&nbsp;=&nbsp;'p1081', <span id=\"p1085\" style=\"cursor: pointer;\">&hellip;)</span></div></div><div class=\"p1084\" style=\"display: none;\"><div style=\"display: table-cell;\"></div><div style=\"display: table-cell;\">coordinates&nbsp;=&nbsp;None,</div></div><div class=\"p1084\" style=\"display: none;\"><div style=\"display: table-cell;\"></div><div style=\"display: table-cell;\">data_source&nbsp;=&nbsp;ColumnDataSource(id='p1075', ...),</div></div><div class=\"p1084\" style=\"display: none;\"><div style=\"display: table-cell;\"></div><div style=\"display: table-cell;\">glyph&nbsp;=&nbsp;HBar(id='p1078', ...),</div></div><div class=\"p1084\" style=\"display: none;\"><div style=\"display: table-cell;\"></div><div style=\"display: table-cell;\">group&nbsp;=&nbsp;None,</div></div><div class=\"p1084\" style=\"display: none;\"><div style=\"display: table-cell;\"></div><div style=\"display: table-cell;\">hover_glyph&nbsp;=&nbsp;None,</div></div><div class=\"p1084\" style=\"display: none;\"><div style=\"display: table-cell;\"></div><div style=\"display: table-cell;\">js_event_callbacks&nbsp;=&nbsp;{},</div></div><div class=\"p1084\" style=\"display: none;\"><div style=\"display: table-cell;\"></div><div style=\"display: table-cell;\">js_property_callbacks&nbsp;=&nbsp;{},</div></div><div class=\"p1084\" style=\"display: none;\"><div style=\"display: table-cell;\"></div><div style=\"display: table-cell;\">level&nbsp;=&nbsp;'glyph',</div></div><div class=\"p1084\" style=\"display: none;\"><div style=\"display: table-cell;\"></div><div style=\"display: table-cell;\">muted&nbsp;=&nbsp;False,</div></div><div class=\"p1084\" style=\"display: none;\"><div style=\"display: table-cell;\"></div><div style=\"display: table-cell;\">muted_glyph&nbsp;=&nbsp;HBar(id='p1080', ...),</div></div><div class=\"p1084\" style=\"display: none;\"><div style=\"display: table-cell;\"></div><div style=\"display: table-cell;\">name&nbsp;=&nbsp;None,</div></div><div class=\"p1084\" style=\"display: none;\"><div style=\"display: table-cell;\"></div><div style=\"display: table-cell;\">nonselection_glyph&nbsp;=&nbsp;HBar(id='p1079', ...),</div></div><div class=\"p1084\" style=\"display: none;\"><div style=\"display: table-cell;\"></div><div style=\"display: table-cell;\">propagate_hover&nbsp;=&nbsp;False,</div></div><div class=\"p1084\" style=\"display: none;\"><div style=\"display: table-cell;\"></div><div style=\"display: table-cell;\">selection_glyph&nbsp;=&nbsp;'auto',</div></div><div class=\"p1084\" style=\"display: none;\"><div style=\"display: table-cell;\"></div><div style=\"display: table-cell;\">subscribed_events&nbsp;=&nbsp;PropertyValueSet(),</div></div><div class=\"p1084\" style=\"display: none;\"><div style=\"display: table-cell;\"></div><div style=\"display: table-cell;\">syncable&nbsp;=&nbsp;True,</div></div><div class=\"p1084\" style=\"display: none;\"><div style=\"display: table-cell;\"></div><div style=\"display: table-cell;\">tags&nbsp;=&nbsp;[],</div></div><div class=\"p1084\" style=\"display: none;\"><div style=\"display: table-cell;\"></div><div style=\"display: table-cell;\">view&nbsp;=&nbsp;CDSView(id='p1082', ...),</div></div><div class=\"p1084\" style=\"display: none;\"><div style=\"display: table-cell;\"></div><div style=\"display: table-cell;\">visible&nbsp;=&nbsp;True,</div></div><div class=\"p1084\" style=\"display: none;\"><div style=\"display: table-cell;\"></div><div style=\"display: table-cell;\">x_range_name&nbsp;=&nbsp;'default',</div></div><div class=\"p1084\" style=\"display: none;\"><div style=\"display: table-cell;\"></div><div style=\"display: table-cell;\">y_range_name&nbsp;=&nbsp;'default')</div></div></div>\n",
       "<script>\n",
       "(function() {\n",
       "  let expanded = false;\n",
       "  const ellipsis = document.getElementById(\"p1085\");\n",
       "  ellipsis.addEventListener(\"click\", function() {\n",
       "    const rows = document.getElementsByClassName(\"p1084\");\n",
       "    for (let i = 0; i < rows.length; i++) {\n",
       "      const el = rows[i];\n",
       "      el.style.display = expanded ? \"none\" : \"table-row\";\n",
       "    }\n",
       "    ellipsis.innerHTML = expanded ? \"&hellip;)\" : \"&lsaquo;&lsaquo;&lsaquo;\";\n",
       "    expanded = !expanded;\n",
       "  });\n",
       "})();\n",
       "</script>\n"
      ],
      "text/plain": [
       "GlyphRenderer(id='p1081', ...)"
      ]
     },
     "execution_count": 13,
     "metadata": {},
     "output_type": "execute_result"
    }
   ],
   "source": [
    "# Render glyph\n",
    "p.hbar(\n",
    "    y = cars,\n",
    "    right = horsepower,\n",
    "    left = 0,\n",
    "    height = 0.5,\n",
    "    color= 'green',\n",
    "    fill_alpha = 0.5\n",
    ")"
   ]
  },
  {
   "cell_type": "code",
   "execution_count": 14,
   "id": "139f6c76-d10e-4189-a2d5-7d3a297014b4",
   "metadata": {
    "tags": []
   },
   "outputs": [],
   "source": [
    "show(p)"
   ]
  },
  {
   "cell_type": "markdown",
   "id": "3323b726-8d8a-4754-b94b-45b8491fe3a4",
   "metadata": {},
   "source": [
    "### Plot and Render glyph again using 'source' for tooltips"
   ]
  },
  {
   "cell_type": "code",
   "execution_count": 15,
   "id": "2335a884-3234-4b57-b4bc-7e10244120a0",
   "metadata": {
    "tags": []
   },
   "outputs": [],
   "source": [
    "# Create separate car list\n",
    "car_list = source.data['Car'].tolist()"
   ]
  },
  {
   "cell_type": "code",
   "execution_count": 16,
   "id": "98937ec7-5af7-459b-a741-a6eed6a42af1",
   "metadata": {
    "tags": []
   },
   "outputs": [],
   "source": [
    "p = figure(\n",
    "    y_range = car_list,\n",
    "    width = 800,\n",
    "    height = 600,\n",
    "    title = 'Cars - Top Horsepower',\n",
    "    tools = 'pan,box_select,zoom_in,zoom_out,save,reset',\n",
    "    x_axis_label = 'Horsepower'\n",
    "\n",
    ")"
   ]
  },
  {
   "cell_type": "code",
   "execution_count": 18,
   "id": "912c0861-135f-43e6-9b33-c0de7e0a30c9",
   "metadata": {
    "tags": []
   },
   "outputs": [],
   "source": [
    "# Render glyph\n",
    "p.hbar(\n",
    "    y = 'Car',\n",
    "    right = 'Horsepower',\n",
    "    left = 0,\n",
    "    height = 0.5,\n",
    "    fill_color = factor_cmap(\n",
    "        'Car',\n",
    "        palette = Blues8,\n",
    "        factors = car_list\n",
    "    ),\n",
    "    fill_alpha = 0.8,\n",
    "    source=source,      #Where the glyph gets column info\n",
    "    legend_group = 'Car'\n",
    ")\n",
    "\n",
    "# Add Legend\n",
    "p.legend.orientation = 'vertical'\n",
    "p.legend.location = 'top_right'\n",
    "p.legend.label_text_font_size = '10px'"
   ]
  },
  {
   "cell_type": "code",
   "execution_count": 19,
   "id": "1281d99b-c342-43d6-905b-42115c202376",
   "metadata": {
    "tags": []
   },
   "outputs": [],
   "source": [
    "# Add Tooltips\n",
    "hover = HoverTool()\n",
    "hover.tooltips=\"\"\"\n",
    "    <div>\n",
    "        <h3>@Car</h3>\n",
    "        <div><strong>Price: </strong>@Price</div>\n",
    "        <div><strong>HP: </strong>@Horsepower</div>\n",
    "        <div><img src=\"@Image\" alt=\"\" width=\"200\"/></div>\n",
    "    </div>\n",
    "\"\"\"\n",
    "\n",
    "p.add_tools(hover)"
   ]
  },
  {
   "cell_type": "code",
   "execution_count": 20,
   "id": "a325a91e-b970-48eb-8adf-9088a11fae4d",
   "metadata": {
    "tags": []
   },
   "outputs": [],
   "source": [
    "show(p)\n",
    "output_file('index.html')"
   ]
  },
  {
   "cell_type": "code",
   "execution_count": null,
   "id": "8b26a883-fdb7-4194-9192-317a0dfb3fb7",
   "metadata": {
    "tags": []
   },
   "outputs": [],
   "source": []
  }
 ],
 "metadata": {
  "kernelspec": {
   "display_name": "Python 3 (ipykernel)",
   "language": "python",
   "name": "python3"
  },
  "language_info": {
   "codemirror_mode": {
    "name": "ipython",
    "version": 3
   },
   "file_extension": ".py",
   "mimetype": "text/x-python",
   "name": "python",
   "nbconvert_exporter": "python",
   "pygments_lexer": "ipython3",
   "version": "3.10.13"
  }
 },
 "nbformat": 4,
 "nbformat_minor": 5
}
