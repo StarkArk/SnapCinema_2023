{
 "cells": [
  {
   "cell_type": "code",
   "execution_count": 1,
   "id": "108d8f76-bebf-43c5-a1ce-c7589a800efa",
   "metadata": {
    "tags": []
   },
   "outputs": [],
   "source": [
    "# import dependencies\n",
    "import pandas as pd\n",
    "import requests\n",
    "import numpy as np"
   ]
  },
  {
   "cell_type": "code",
   "execution_count": 2,
   "id": "480056cc-476c-4736-8bf5-d2aa984ced02",
   "metadata": {
    "tags": []
   },
   "outputs": [],
   "source": [
    "# links\n",
    "url1 = 'https://www.boxofficemojo.com/year/2023/?ref_=bo_yl_table_1'\n",
    "url2 = 'https://www.boxofficemojo.com/holiday/?ref_=bo_nb_yld_secondarytab'\n",
    "url3 = 'https://www.boxofficemojo.com/chart/mpaa_title_lifetime_gross/?by_mpaa=PG-13&ref_=bo_cso_ac'\n",
    "\n",
    "# retrieve html for links\n",
    "response1 = requests.get(url1)\n",
    "response2 = requests.get(url2)\n",
    "response3 = requests.get(url3)\n",
    "\n",
    "# Read responses into tables\n",
    "top_domestic_2023 = pd.read_html(response1.text)\n",
    "holiday_revenue_2023 = pd.read_html(response2.text)\n",
    "top_200_alltime = pd.read_html(response3.text)"
   ]
  },
  {
   "cell_type": "code",
   "execution_count": 3,
   "id": "e5d1c7f2-375f-4c81-9ec3-3480b6d86af2",
   "metadata": {
    "tags": []
   },
   "outputs": [
    {
     "data": {
      "text/html": [
       "<div>\n",
       "<style scoped>\n",
       "    .dataframe tbody tr th:only-of-type {\n",
       "        vertical-align: middle;\n",
       "    }\n",
       "\n",
       "    .dataframe tbody tr th {\n",
       "        vertical-align: top;\n",
       "    }\n",
       "\n",
       "    .dataframe thead th {\n",
       "        text-align: right;\n",
       "    }\n",
       "</style>\n",
       "<table border=\"1\" class=\"dataframe\">\n",
       "  <thead>\n",
       "    <tr style=\"text-align: right;\">\n",
       "      <th></th>\n",
       "      <th>Rank</th>\n",
       "      <th>Release</th>\n",
       "      <th>Genre</th>\n",
       "      <th>Budget</th>\n",
       "      <th>Running Time</th>\n",
       "      <th>Gross</th>\n",
       "      <th>Theaters</th>\n",
       "      <th>Total Gross</th>\n",
       "      <th>Release Date</th>\n",
       "      <th>Distributor</th>\n",
       "      <th>Estimated</th>\n",
       "    </tr>\n",
       "  </thead>\n",
       "  <tbody>\n",
       "    <tr>\n",
       "      <th>0</th>\n",
       "      <td>1</td>\n",
       "      <td>Barbie</td>\n",
       "      <td>-</td>\n",
       "      <td>-</td>\n",
       "      <td>-</td>\n",
       "      <td>$636,218,186</td>\n",
       "      <td>4337</td>\n",
       "      <td>$636,218,186</td>\n",
       "      <td>Jul 21</td>\n",
       "      <td>Warner Bros.</td>\n",
       "      <td>False</td>\n",
       "    </tr>\n",
       "    <tr>\n",
       "      <th>1</th>\n",
       "      <td>2</td>\n",
       "      <td>The Super Mario Bros. Movie</td>\n",
       "      <td>-</td>\n",
       "      <td>-</td>\n",
       "      <td>-</td>\n",
       "      <td>$574,934,330</td>\n",
       "      <td>4371</td>\n",
       "      <td>$574,934,330</td>\n",
       "      <td>Apr 5</td>\n",
       "      <td>Universal Pictures</td>\n",
       "      <td>False</td>\n",
       "    </tr>\n",
       "    <tr>\n",
       "      <th>2</th>\n",
       "      <td>3</td>\n",
       "      <td>Spider-Man: Across the Spider-Verse</td>\n",
       "      <td>-</td>\n",
       "      <td>-</td>\n",
       "      <td>-</td>\n",
       "      <td>$381,311,319</td>\n",
       "      <td>4332</td>\n",
       "      <td>$381,311,319</td>\n",
       "      <td>Jun 2</td>\n",
       "      <td>Columbia Pictures</td>\n",
       "      <td>False</td>\n",
       "    </tr>\n",
       "    <tr>\n",
       "      <th>3</th>\n",
       "      <td>4</td>\n",
       "      <td>Guardians of the Galaxy Vol. 3</td>\n",
       "      <td>-</td>\n",
       "      <td>-</td>\n",
       "      <td>-</td>\n",
       "      <td>$358,995,815</td>\n",
       "      <td>4450</td>\n",
       "      <td>$358,995,815</td>\n",
       "      <td>May 5</td>\n",
       "      <td>Walt Disney Studios Motion Pictures</td>\n",
       "      <td>False</td>\n",
       "    </tr>\n",
       "    <tr>\n",
       "      <th>4</th>\n",
       "      <td>5</td>\n",
       "      <td>Oppenheimer</td>\n",
       "      <td>-</td>\n",
       "      <td>-</td>\n",
       "      <td>-</td>\n",
       "      <td>$326,067,790</td>\n",
       "      <td>3761</td>\n",
       "      <td>$326,067,790</td>\n",
       "      <td>Jul 21</td>\n",
       "      <td>Universal Pictures</td>\n",
       "      <td>False</td>\n",
       "    </tr>\n",
       "  </tbody>\n",
       "</table>\n",
       "</div>"
      ],
      "text/plain": [
       "   Rank                              Release Genre Budget Running Time  \\\n",
       "0     1                               Barbie     -      -            -   \n",
       "1     2          The Super Mario Bros. Movie     -      -            -   \n",
       "2     3  Spider-Man: Across the Spider-Verse     -      -            -   \n",
       "3     4       Guardians of the Galaxy Vol. 3     -      -            -   \n",
       "4     5                          Oppenheimer     -      -            -   \n",
       "\n",
       "          Gross Theaters   Total Gross Release Date  \\\n",
       "0  $636,218,186     4337  $636,218,186       Jul 21   \n",
       "1  $574,934,330     4371  $574,934,330        Apr 5   \n",
       "2  $381,311,319     4332  $381,311,319        Jun 2   \n",
       "3  $358,995,815     4450  $358,995,815        May 5   \n",
       "4  $326,067,790     3761  $326,067,790       Jul 21   \n",
       "\n",
       "                           Distributor  Estimated  \n",
       "0                         Warner Bros.      False  \n",
       "1                   Universal Pictures      False  \n",
       "2                    Columbia Pictures      False  \n",
       "3  Walt Disney Studios Motion Pictures      False  \n",
       "4                   Universal Pictures      False  "
      ]
     },
     "metadata": {},
     "output_type": "display_data"
    },
    {
     "data": {
      "text/html": [
       "<div>\n",
       "<style scoped>\n",
       "    .dataframe tbody tr th:only-of-type {\n",
       "        vertical-align: middle;\n",
       "    }\n",
       "\n",
       "    .dataframe tbody tr th {\n",
       "        vertical-align: top;\n",
       "    }\n",
       "\n",
       "    .dataframe thead th {\n",
       "        text-align: right;\n",
       "    }\n",
       "</style>\n",
       "<table border=\"1\" class=\"dataframe\">\n",
       "  <thead>\n",
       "    <tr style=\"text-align: right;\">\n",
       "      <th></th>\n",
       "      <th>Holiday</th>\n",
       "      <th>Cumulative Gross</th>\n",
       "      <th>% of Year</th>\n",
       "      <th>Releases</th>\n",
       "      <th>Average</th>\n",
       "      <th>#1 Release</th>\n",
       "      <th>Genre</th>\n",
       "      <th>Budget</th>\n",
       "      <th>Running Time</th>\n",
       "      <th>Gross</th>\n",
       "      <th>% of Total</th>\n",
       "    </tr>\n",
       "  </thead>\n",
       "  <tbody>\n",
       "    <tr>\n",
       "      <th>0</th>\n",
       "      <td>Post-Thanksgiving Weekend</td>\n",
       "      <td>$97,203,446</td>\n",
       "      <td>1.1%</td>\n",
       "      <td>52</td>\n",
       "      <td>$1,869,297</td>\n",
       "      <td>Renaissance: A Film by Beyoncé</td>\n",
       "      <td>-</td>\n",
       "      <td>-</td>\n",
       "      <td>-</td>\n",
       "      <td>$21,801,216</td>\n",
       "      <td>22.4%</td>\n",
       "    </tr>\n",
       "    <tr>\n",
       "      <th>1</th>\n",
       "      <td>Thanksgiving Weekend</td>\n",
       "      <td>$116,005,630</td>\n",
       "      <td>1.4%</td>\n",
       "      <td>54</td>\n",
       "      <td>$2,148,252</td>\n",
       "      <td>The Hunger Games: The Ballad of Songbirds &amp; Sn...</td>\n",
       "      <td>-</td>\n",
       "      <td>-</td>\n",
       "      <td>-</td>\n",
       "      <td>$29,042,517</td>\n",
       "      <td>25%</td>\n",
       "    </tr>\n",
       "    <tr>\n",
       "      <th>2</th>\n",
       "      <td>Thanksgiving 4-Day Weekend</td>\n",
       "      <td>$138,550,022</td>\n",
       "      <td>1.6%</td>\n",
       "      <td>37</td>\n",
       "      <td>$3,744,595</td>\n",
       "      <td>The Hunger Games: The Ballad of Songbirds &amp; Sn...</td>\n",
       "      <td>-</td>\n",
       "      <td>-</td>\n",
       "      <td>-</td>\n",
       "      <td>$34,924,898</td>\n",
       "      <td>25.2%</td>\n",
       "    </tr>\n",
       "    <tr>\n",
       "      <th>3</th>\n",
       "      <td>Thanksgiving</td>\n",
       "      <td>$22,728,673</td>\n",
       "      <td>0.3%</td>\n",
       "      <td>31</td>\n",
       "      <td>$733,183</td>\n",
       "      <td>The Hunger Games: The Ballad of Songbirds &amp; Sn...</td>\n",
       "      <td>-</td>\n",
       "      <td>-</td>\n",
       "      <td>-</td>\n",
       "      <td>$5,882,381</td>\n",
       "      <td>25.9%</td>\n",
       "    </tr>\n",
       "    <tr>\n",
       "      <th>4</th>\n",
       "      <td>Thanksgiving 5-Day Weekend</td>\n",
       "      <td>$173,203,005</td>\n",
       "      <td>2%</td>\n",
       "      <td>40</td>\n",
       "      <td>$4,330,075</td>\n",
       "      <td>The Hunger Games: The Ballad of Songbirds &amp; Sn...</td>\n",
       "      <td>-</td>\n",
       "      <td>-</td>\n",
       "      <td>-</td>\n",
       "      <td>$42,206,080</td>\n",
       "      <td>24.4%</td>\n",
       "    </tr>\n",
       "  </tbody>\n",
       "</table>\n",
       "</div>"
      ],
      "text/plain": [
       "                      Holiday Cumulative Gross % of Year  Releases  \\\n",
       "0   Post-Thanksgiving Weekend      $97,203,446      1.1%        52   \n",
       "1        Thanksgiving Weekend     $116,005,630      1.4%        54   \n",
       "2  Thanksgiving 4-Day Weekend     $138,550,022      1.6%        37   \n",
       "3                Thanksgiving      $22,728,673      0.3%        31   \n",
       "4  Thanksgiving 5-Day Weekend     $173,203,005        2%        40   \n",
       "\n",
       "      Average                                         #1 Release Genre Budget  \\\n",
       "0  $1,869,297                     Renaissance: A Film by Beyoncé     -      -   \n",
       "1  $2,148,252  The Hunger Games: The Ballad of Songbirds & Sn...     -      -   \n",
       "2  $3,744,595  The Hunger Games: The Ballad of Songbirds & Sn...     -      -   \n",
       "3    $733,183  The Hunger Games: The Ballad of Songbirds & Sn...     -      -   \n",
       "4  $4,330,075  The Hunger Games: The Ballad of Songbirds & Sn...     -      -   \n",
       "\n",
       "  Running Time        Gross % of Total  \n",
       "0            -  $21,801,216      22.4%  \n",
       "1            -  $29,042,517        25%  \n",
       "2            -  $34,924,898      25.2%  \n",
       "3            -   $5,882,381      25.9%  \n",
       "4            -  $42,206,080      24.4%  "
      ]
     },
     "metadata": {},
     "output_type": "display_data"
    },
    {
     "data": {
      "text/html": [
       "<div>\n",
       "<style scoped>\n",
       "    .dataframe tbody tr th:only-of-type {\n",
       "        vertical-align: middle;\n",
       "    }\n",
       "\n",
       "    .dataframe tbody tr th {\n",
       "        vertical-align: top;\n",
       "    }\n",
       "\n",
       "    .dataframe thead th {\n",
       "        text-align: right;\n",
       "    }\n",
       "</style>\n",
       "<table border=\"1\" class=\"dataframe\">\n",
       "  <thead>\n",
       "    <tr style=\"text-align: right;\">\n",
       "      <th></th>\n",
       "      <th>Title</th>\n",
       "      <th>Rank</th>\n",
       "      <th>Lifetime Gross</th>\n",
       "      <th>Overall Rank</th>\n",
       "      <th>Year</th>\n",
       "    </tr>\n",
       "  </thead>\n",
       "  <tbody>\n",
       "    <tr>\n",
       "      <th>0</th>\n",
       "      <td>Star Wars: Episode VII - The Force Awakens</td>\n",
       "      <td>1</td>\n",
       "      <td>$936,662,225</td>\n",
       "      <td>1</td>\n",
       "      <td>2015</td>\n",
       "    </tr>\n",
       "    <tr>\n",
       "      <th>1</th>\n",
       "      <td>Avengers: Endgame</td>\n",
       "      <td>2</td>\n",
       "      <td>$858,373,000</td>\n",
       "      <td>2</td>\n",
       "      <td>2019</td>\n",
       "    </tr>\n",
       "    <tr>\n",
       "      <th>2</th>\n",
       "      <td>Spider-Man: No Way Home</td>\n",
       "      <td>3</td>\n",
       "      <td>$814,115,070</td>\n",
       "      <td>3</td>\n",
       "      <td>2021</td>\n",
       "    </tr>\n",
       "    <tr>\n",
       "      <th>3</th>\n",
       "      <td>Avatar</td>\n",
       "      <td>4</td>\n",
       "      <td>$785,221,649</td>\n",
       "      <td>4</td>\n",
       "      <td>2009</td>\n",
       "    </tr>\n",
       "    <tr>\n",
       "      <th>4</th>\n",
       "      <td>Top Gun: Maverick</td>\n",
       "      <td>5</td>\n",
       "      <td>$718,732,821</td>\n",
       "      <td>5</td>\n",
       "      <td>2022</td>\n",
       "    </tr>\n",
       "  </tbody>\n",
       "</table>\n",
       "</div>"
      ],
      "text/plain": [
       "                                        Title  Rank Lifetime Gross  \\\n",
       "0  Star Wars: Episode VII - The Force Awakens     1   $936,662,225   \n",
       "1                           Avengers: Endgame     2   $858,373,000   \n",
       "2                     Spider-Man: No Way Home     3   $814,115,070   \n",
       "3                                      Avatar     4   $785,221,649   \n",
       "4                           Top Gun: Maverick     5   $718,732,821   \n",
       "\n",
       "   Overall Rank  Year  \n",
       "0             1  2015  \n",
       "1             2  2019  \n",
       "2             3  2021  \n",
       "3             4  2009  \n",
       "4             5  2022  "
      ]
     },
     "metadata": {},
     "output_type": "display_data"
    }
   ],
   "source": [
    "# Select and display tables\n",
    "top_dom_2023_df = top_domestic_2023[0]\n",
    "holiday_rev_2023_df = holiday_revenue_2023[0]\n",
    "top_200_alltime_df = top_200_alltime[0]\n",
    "\n",
    "display(top_dom_2023_df.head())\n",
    "display(holiday_rev_2023_df.head())\n",
    "display(top_200_alltime_df.head())"
   ]
  },
  {
   "cell_type": "markdown",
   "id": "2fc313d5-a15a-4403-afc1-31bda4d20ba0",
   "metadata": {},
   "source": [
    "### Table - Top Domestic Movies of 2023 "
   ]
  },
  {
   "cell_type": "code",
   "execution_count": 4,
   "id": "dfaf4c41-47db-4859-b140-44d53ddc98f8",
   "metadata": {
    "tags": []
   },
   "outputs": [
    {
     "data": {
      "text/plain": [
       "Index(['Rank', 'Release', 'Genre', 'Budget', 'Running Time', 'Gross',\n",
       "       'Theaters', 'Total Gross', 'Release Date', 'Distributor', 'Estimated'],\n",
       "      dtype='object')"
      ]
     },
     "execution_count": 4,
     "metadata": {},
     "output_type": "execute_result"
    }
   ],
   "source": [
    "top_dom_2023_df.columns"
   ]
  },
  {
   "cell_type": "code",
   "execution_count": 5,
   "id": "e8758b12-df38-43a9-b2cc-0944e73422f4",
   "metadata": {
    "tags": []
   },
   "outputs": [
    {
     "data": {
      "text/plain": [
       "Estimated\n",
       "False    200\n",
       "Name: count, dtype: int64"
      ]
     },
     "execution_count": 5,
     "metadata": {},
     "output_type": "execute_result"
    }
   ],
   "source": [
    "top_dom_2023_df['Estimated'].value_counts()"
   ]
  },
  {
   "cell_type": "code",
   "execution_count": 6,
   "id": "4073ca72-9336-4cce-a2c9-5946710efdb8",
   "metadata": {
    "tags": []
   },
   "outputs": [],
   "source": [
    "# remove Genre, Budget, Running Time, and Estimated\n",
    "top_dom_2023_df = top_dom_2023_df[['Rank', 'Release', 'Gross','Theaters', 'Total Gross', 'Distributor']]"
   ]
  },
  {
   "cell_type": "code",
   "execution_count": 7,
   "id": "fefe60c7-d353-4749-880d-5b58bccb5052",
   "metadata": {
    "tags": []
   },
   "outputs": [
    {
     "name": "stdout",
     "output_type": "stream",
     "text": [
      "<class 'pandas.core.frame.DataFrame'>\n",
      "RangeIndex: 200 entries, 0 to 199\n",
      "Data columns (total 6 columns):\n",
      " #   Column       Non-Null Count  Dtype \n",
      "---  ------       --------------  ----- \n",
      " 0   Rank         200 non-null    int64 \n",
      " 1   Release      200 non-null    object\n",
      " 2   Gross        200 non-null    object\n",
      " 3   Theaters     200 non-null    object\n",
      " 4   Total Gross  200 non-null    object\n",
      " 5   Distributor  200 non-null    object\n",
      "dtypes: int64(1), object(5)\n",
      "memory usage: 9.5+ KB\n"
     ]
    }
   ],
   "source": [
    "top_dom_2023_df.info()"
   ]
  },
  {
   "cell_type": "code",
   "execution_count": 8,
   "id": "21656b71-1feb-4aa6-8dc2-38ac5a2e2e10",
   "metadata": {
    "tags": []
   },
   "outputs": [],
   "source": [
    "top_200 = top_dom_2023_df.copy()"
   ]
  },
  {
   "cell_type": "code",
   "execution_count": 9,
   "id": "68c54cd2-1f47-4857-bacd-29e880cbdc5f",
   "metadata": {
    "tags": []
   },
   "outputs": [
    {
     "data": {
      "text/plain": [
       "Total Gross\n",
       "<class 'str'>    200\n",
       "Name: count, dtype: int64"
      ]
     },
     "execution_count": 9,
     "metadata": {},
     "output_type": "execute_result"
    }
   ],
   "source": [
    "top_200['Total Gross'].apply(type).value_counts()"
   ]
  },
  {
   "cell_type": "code",
   "execution_count": 10,
   "id": "172dec0e-b1bb-4615-b8ea-d39e51cae3f0",
   "metadata": {
    "tags": []
   },
   "outputs": [
    {
     "name": "stdout",
     "output_type": "stream",
     "text": [
      "<class 'pandas.core.frame.DataFrame'>\n",
      "RangeIndex: 200 entries, 0 to 199\n",
      "Data columns (total 2 columns):\n",
      " #   Column       Non-Null Count  Dtype\n",
      "---  ------       --------------  -----\n",
      " 0   Gross        200 non-null    int64\n",
      " 1   Total Gross  200 non-null    int64\n",
      "dtypes: int64(2)\n",
      "memory usage: 3.2 KB\n"
     ]
    }
   ],
   "source": [
    "# Convert 'Gross' and 'Total Gross'\n",
    "\n",
    "# top_200['Gross'].apply(type).value_counts()\n",
    "\n",
    "top_200['Gross'] = top_200['Gross'].str.replace(',', '')\n",
    "top_200['Gross'] = top_200['Gross'].str.replace('$', '')\n",
    "top_200['Gross'] = top_200['Gross'].astype('int64', copy=True)\n",
    "\n",
    "top_200['Total Gross'] = top_200['Total Gross'].str.replace(',', '')\n",
    "top_200['Total Gross'] = top_200['Total Gross'].str.replace('$', '')\n",
    "top_200['Total Gross'] = top_200['Total Gross'].astype('int64', copy=True)\n",
    "\n",
    "top_200[['Gross', 'Total Gross']].info()"
   ]
  },
  {
   "cell_type": "code",
   "execution_count": 11,
   "id": "72ad1d68-b956-43f1-97d6-3e9b3b4709f5",
   "metadata": {
    "tags": []
   },
   "outputs": [
    {
     "data": {
      "text/plain": [
       "Theaters\n",
       "<class 'str'>    200\n",
       "Name: count, dtype: int64"
      ]
     },
     "execution_count": 11,
     "metadata": {},
     "output_type": "execute_result"
    }
   ],
   "source": [
    "top_200['Theaters'].apply(type).value_counts()"
   ]
  },
  {
   "cell_type": "code",
   "execution_count": 12,
   "id": "175f6ad3-cb4d-4549-b8b7-79b66ef10bdc",
   "metadata": {
    "tags": []
   },
   "outputs": [
    {
     "name": "stdout",
     "output_type": "stream",
     "text": [
      "<class 'pandas.core.frame.DataFrame'>\n",
      "RangeIndex: 200 entries, 0 to 199\n",
      "Data columns (total 6 columns):\n",
      " #   Column       Non-Null Count  Dtype  \n",
      "---  ------       --------------  -----  \n",
      " 0   Rank         200 non-null    int64  \n",
      " 1   Release      200 non-null    object \n",
      " 2   Gross        200 non-null    int64  \n",
      " 3   Theaters     198 non-null    float64\n",
      " 4   Total Gross  200 non-null    int64  \n",
      " 5   Distributor  200 non-null    object \n",
      "dtypes: float64(1), int64(3), object(2)\n",
      "memory usage: 9.5+ KB\n"
     ]
    }
   ],
   "source": [
    "# Convert 'Theaters' column to float, nan values cannot be converted to integer.\n",
    "theater_list = top_200['Theaters'].values.tolist()\n",
    "\n",
    "new_list = []\n",
    "for i in range(len(theater_list)):\n",
    "    if theater_list[i] == '-':\n",
    "        new_list.append(np.nan)\n",
    "    else:\n",
    "        new_list.append(int(theater_list[i]))\n",
    "\n",
    "top_200['Theaters'] = new_list\n",
    "\n",
    "top_200.info()"
   ]
  },
  {
   "cell_type": "code",
   "execution_count": 13,
   "id": "66d7a9c6-c2b4-4790-965d-875a10b69912",
   "metadata": {
    "tags": []
   },
   "outputs": [],
   "source": [
    "# Rename the Columns "
   ]
  },
  {
   "cell_type": "code",
   "execution_count": 14,
   "id": "8d839ae1-7644-499e-b1ae-5f4571038490",
   "metadata": {
    "tags": []
   },
   "outputs": [],
   "source": [
    "# Export as csv\n",
    "top_200.to_csv('top_dom_200_2023.csv')"
   ]
  },
  {
   "cell_type": "markdown",
   "id": "93280352-1263-462d-a3a0-25175e338c4f",
   "metadata": {},
   "source": [
    "### Holidays Table"
   ]
  },
  {
   "cell_type": "code",
   "execution_count": 15,
   "id": "b4eed499-0c00-47cc-a5fa-edc1cadf8eb5",
   "metadata": {
    "tags": []
   },
   "outputs": [
    {
     "data": {
      "text/plain": [
       "Index(['Holiday', 'Cumulative Gross', '% of Year', 'Releases', 'Average',\n",
       "       '#1 Release', 'Genre', 'Budget', 'Running Time', 'Gross', '% of Total'],\n",
       "      dtype='object')"
      ]
     },
     "execution_count": 15,
     "metadata": {},
     "output_type": "execute_result"
    }
   ],
   "source": [
    "holiday_rev_2023_df.columns"
   ]
  },
  {
   "cell_type": "code",
   "execution_count": 16,
   "id": "79e83333-bc43-4222-af2d-c473e6ce47fb",
   "metadata": {
    "tags": []
   },
   "outputs": [
    {
     "data": {
      "text/html": [
       "<div>\n",
       "<style scoped>\n",
       "    .dataframe tbody tr th:only-of-type {\n",
       "        vertical-align: middle;\n",
       "    }\n",
       "\n",
       "    .dataframe tbody tr th {\n",
       "        vertical-align: top;\n",
       "    }\n",
       "\n",
       "    .dataframe thead th {\n",
       "        text-align: right;\n",
       "    }\n",
       "</style>\n",
       "<table border=\"1\" class=\"dataframe\">\n",
       "  <thead>\n",
       "    <tr style=\"text-align: right;\">\n",
       "      <th></th>\n",
       "      <th>Holiday</th>\n",
       "      <th>Cumulative Gross</th>\n",
       "      <th>% of Year</th>\n",
       "      <th>Releases</th>\n",
       "      <th>Average</th>\n",
       "      <th>#1 Release</th>\n",
       "      <th>Genre</th>\n",
       "      <th>Budget</th>\n",
       "      <th>Running Time</th>\n",
       "      <th>Gross</th>\n",
       "      <th>% of Total</th>\n",
       "    </tr>\n",
       "  </thead>\n",
       "  <tbody>\n",
       "    <tr>\n",
       "      <th>0</th>\n",
       "      <td>Post-Thanksgiving Weekend</td>\n",
       "      <td>$97,203,446</td>\n",
       "      <td>1.1%</td>\n",
       "      <td>52</td>\n",
       "      <td>$1,869,297</td>\n",
       "      <td>Renaissance: A Film by Beyoncé</td>\n",
       "      <td>-</td>\n",
       "      <td>-</td>\n",
       "      <td>-</td>\n",
       "      <td>$21,801,216</td>\n",
       "      <td>22.4%</td>\n",
       "    </tr>\n",
       "    <tr>\n",
       "      <th>1</th>\n",
       "      <td>Thanksgiving Weekend</td>\n",
       "      <td>$116,005,630</td>\n",
       "      <td>1.4%</td>\n",
       "      <td>54</td>\n",
       "      <td>$2,148,252</td>\n",
       "      <td>The Hunger Games: The Ballad of Songbirds &amp; Sn...</td>\n",
       "      <td>-</td>\n",
       "      <td>-</td>\n",
       "      <td>-</td>\n",
       "      <td>$29,042,517</td>\n",
       "      <td>25%</td>\n",
       "    </tr>\n",
       "  </tbody>\n",
       "</table>\n",
       "</div>"
      ],
      "text/plain": [
       "                     Holiday Cumulative Gross % of Year  Releases     Average  \\\n",
       "0  Post-Thanksgiving Weekend      $97,203,446      1.1%        52  $1,869,297   \n",
       "1       Thanksgiving Weekend     $116,005,630      1.4%        54  $2,148,252   \n",
       "\n",
       "                                          #1 Release Genre Budget  \\\n",
       "0                     Renaissance: A Film by Beyoncé     -      -   \n",
       "1  The Hunger Games: The Ballad of Songbirds & Sn...     -      -   \n",
       "\n",
       "  Running Time        Gross % of Total  \n",
       "0            -  $21,801,216      22.4%  \n",
       "1            -  $29,042,517        25%  "
      ]
     },
     "execution_count": 16,
     "metadata": {},
     "output_type": "execute_result"
    }
   ],
   "source": [
    "holiday_rev_2023_df.head(2)\n",
    "\n",
    "# Convert Average, % of Year, cumulative gross, gross, % of Total"
   ]
  },
  {
   "cell_type": "code",
   "execution_count": 17,
   "id": "b4198b88-3a2b-4bcd-9bad-3a5273bd2c7f",
   "metadata": {
    "tags": []
   },
   "outputs": [],
   "source": [
    "holiday_df = holiday_rev_2023_df.copy()"
   ]
  },
  {
   "cell_type": "code",
   "execution_count": 18,
   "id": "a045fd3e-5e98-4e30-9593-4dfe975356b1",
   "metadata": {
    "tags": []
   },
   "outputs": [
    {
     "name": "stdout",
     "output_type": "stream",
     "text": [
      "<class 'pandas.core.frame.DataFrame'>\n",
      "RangeIndex: 21 entries, 0 to 20\n",
      "Data columns (total 3 columns):\n",
      " #   Column            Non-Null Count  Dtype\n",
      "---  ------            --------------  -----\n",
      " 0   Cumulative Gross  21 non-null     int64\n",
      " 1   Average           21 non-null     int64\n",
      " 2   Gross             21 non-null     int64\n",
      "dtypes: int64(3)\n",
      "memory usage: 632.0 bytes\n"
     ]
    }
   ],
   "source": [
    "# Convert 'Cumulative Gross', 'Average', 'Gross' from str to int\n",
    "\n",
    "holiday_df['Cumulative Gross'] = holiday_df['Cumulative Gross'].str.replace(',', '')\n",
    "holiday_df['Cumulative Gross'] = holiday_df['Cumulative Gross'].str.replace('$', '')\n",
    "holiday_df['Cumulative Gross'] = holiday_df['Cumulative Gross'].astype('int64', copy=True)\n",
    "\n",
    "holiday_df['Average'] = holiday_df['Average'].str.replace(',', '')\n",
    "holiday_df['Average'] = holiday_df['Average'].str.replace('$', '')\n",
    "holiday_df['Average'] = holiday_df['Average'].astype('int64', copy=True)\n",
    "\n",
    "holiday_df['Gross'] = holiday_df['Gross'].str.replace(',', '')\n",
    "holiday_df['Gross'] = holiday_df['Gross'].str.replace('$', '')\n",
    "holiday_df['Gross'] = holiday_df['Gross'].astype('int64', copy=True)\n",
    "\n",
    "\n",
    "holiday_df[['Cumulative Gross', 'Average', 'Gross']].info()"
   ]
  },
  {
   "cell_type": "code",
   "execution_count": 19,
   "id": "b1a14a7b-48a9-4dbc-bdfa-402586b138e1",
   "metadata": {
    "tags": []
   },
   "outputs": [
    {
     "name": "stdout",
     "output_type": "stream",
     "text": [
      "<class 'pandas.core.frame.DataFrame'>\n",
      "RangeIndex: 21 entries, 0 to 20\n",
      "Data columns (total 11 columns):\n",
      " #   Column            Non-Null Count  Dtype \n",
      "---  ------            --------------  ----- \n",
      " 0   Holiday           21 non-null     object\n",
      " 1   Cumulative Gross  21 non-null     int64 \n",
      " 2   % of Year         21 non-null     object\n",
      " 3   Releases          21 non-null     int64 \n",
      " 4   Average           21 non-null     int64 \n",
      " 5   #1 Release        21 non-null     object\n",
      " 6   Genre             21 non-null     object\n",
      " 7   Budget            21 non-null     object\n",
      " 8   Running Time      21 non-null     object\n",
      " 9   Gross             21 non-null     int64 \n",
      " 10  % of Total        21 non-null     object\n",
      "dtypes: int64(4), object(7)\n",
      "memory usage: 1.9+ KB\n"
     ]
    }
   ],
   "source": [
    "holiday_df.info()"
   ]
  },
  {
   "cell_type": "code",
   "execution_count": 20,
   "id": "7b2dff14-ffd8-4780-b65b-a82422f8c5c3",
   "metadata": {
    "tags": []
   },
   "outputs": [
    {
     "data": {
      "text/html": [
       "<div>\n",
       "<style scoped>\n",
       "    .dataframe tbody tr th:only-of-type {\n",
       "        vertical-align: middle;\n",
       "    }\n",
       "\n",
       "    .dataframe tbody tr th {\n",
       "        vertical-align: top;\n",
       "    }\n",
       "\n",
       "    .dataframe thead th {\n",
       "        text-align: right;\n",
       "    }\n",
       "</style>\n",
       "<table border=\"1\" class=\"dataframe\">\n",
       "  <thead>\n",
       "    <tr style=\"text-align: right;\">\n",
       "      <th></th>\n",
       "      <th>% of Year</th>\n",
       "      <th>% of Total</th>\n",
       "    </tr>\n",
       "  </thead>\n",
       "  <tbody>\n",
       "    <tr>\n",
       "      <th>0</th>\n",
       "      <td>0.011</td>\n",
       "      <td>0.224</td>\n",
       "    </tr>\n",
       "    <tr>\n",
       "      <th>1</th>\n",
       "      <td>0.014</td>\n",
       "      <td>0.250</td>\n",
       "    </tr>\n",
       "    <tr>\n",
       "      <th>2</th>\n",
       "      <td>0.016</td>\n",
       "      <td>0.252</td>\n",
       "    </tr>\n",
       "    <tr>\n",
       "      <th>3</th>\n",
       "      <td>0.003</td>\n",
       "      <td>0.259</td>\n",
       "    </tr>\n",
       "    <tr>\n",
       "      <th>4</th>\n",
       "      <td>0.020</td>\n",
       "      <td>0.244</td>\n",
       "    </tr>\n",
       "  </tbody>\n",
       "</table>\n",
       "</div>"
      ],
      "text/plain": [
       "   % of Year  % of Total\n",
       "0      0.011       0.224\n",
       "1      0.014       0.250\n",
       "2      0.016       0.252\n",
       "3      0.003       0.259\n",
       "4      0.020       0.244"
      ]
     },
     "execution_count": 20,
     "metadata": {},
     "output_type": "execute_result"
    }
   ],
   "source": [
    "# Convert columns '% of Year' and '% of Total' to float\n",
    "\n",
    "holiday_df['% of Year'] = holiday_df['% of Year'].str.replace('%', '')\n",
    "holiday_df['% of Year'] = holiday_df['% of Year'].astype(float)/100\n",
    "\n",
    "holiday_df['% of Total'] = holiday_df['% of Total'].str.replace('%', '')\n",
    "holiday_df['% of Total'] = holiday_df['% of Total'].astype(float)/100\n",
    "\n",
    "\n",
    "holiday_df[['% of Year', '% of Total']].head()"
   ]
  },
  {
   "cell_type": "code",
   "execution_count": 21,
   "id": "52a2437e-6c53-411e-91c3-4417219410fa",
   "metadata": {
    "tags": []
   },
   "outputs": [
    {
     "data": {
      "text/plain": [
       "Index(['Holiday', 'Cumulative Gross', '% of Year', 'Releases', 'Average',\n",
       "       '#1 Release', 'Genre', 'Budget', 'Running Time', 'Gross', '% of Total'],\n",
       "      dtype='object')"
      ]
     },
     "metadata": {},
     "output_type": "display_data"
    },
    {
     "data": {
      "text/plain": [
       "Index(['Holiday', 'Cumulative Gross', '% of Year', 'Releases', 'Average',\n",
       "       '#1 Release', 'Gross', '% of Total'],\n",
       "      dtype='object')"
      ]
     },
     "metadata": {},
     "output_type": "display_data"
    }
   ],
   "source": [
    "# Remove columns without data\n",
    "\n",
    "display(holiday_df.columns)\n",
    "\n",
    "holiday_df = holiday_df[['Holiday', 'Cumulative Gross', '% of Year', 'Releases', 'Average',\n",
    "       '#1 Release', 'Gross', '% of Total']]\n",
    "\n",
    "display(holiday_df.columns)"
   ]
  },
  {
   "cell_type": "code",
   "execution_count": 22,
   "id": "fc271244-a4e1-45b8-8691-52818fce5a77",
   "metadata": {
    "tags": []
   },
   "outputs": [
    {
     "data": {
      "text/plain": [
       "['Post-Thanksgiving Weekend',\n",
       " 'Thanksgiving Weekend',\n",
       " 'Thanksgiving 4-Day Weekend',\n",
       " 'Thanksgiving',\n",
       " 'Thanksgiving 5-Day Weekend',\n",
       " 'Halloween',\n",
       " \"Indigenous People's Day\",\n",
       " \"Indigenous People's Day Weekend\",\n",
       " 'Labor Day',\n",
       " 'Labor Day Weekend',\n",
       " 'Independence Day',\n",
       " 'Independence Day Weekend',\n",
       " 'Memorial Day',\n",
       " 'Memorial Day Weekend',\n",
       " 'Easter',\n",
       " 'Easter Weekend',\n",
       " \"President's Day\",\n",
       " \"President's Day Weekend\",\n",
       " 'MLK Day',\n",
       " 'MLK Day Weekend',\n",
       " \"New Year's Day\"]"
      ]
     },
     "execution_count": 22,
     "metadata": {},
     "output_type": "execute_result"
    }
   ],
   "source": [
    "holiday_list = holiday_df['Holiday'].values.tolist()\n",
    "\n",
    "holiday_list"
   ]
  },
  {
   "cell_type": "code",
   "execution_count": 23,
   "id": "3db6146f-75eb-466f-9d80-d700de447282",
   "metadata": {
    "tags": []
   },
   "outputs": [
    {
     "data": {
      "text/plain": [
       "21"
      ]
     },
     "metadata": {},
     "output_type": "display_data"
    },
    {
     "data": {
      "text/plain": [
       "21"
      ]
     },
     "metadata": {},
     "output_type": "display_data"
    },
    {
     "data": {
      "text/html": [
       "<div>\n",
       "<style scoped>\n",
       "    .dataframe tbody tr th:only-of-type {\n",
       "        vertical-align: middle;\n",
       "    }\n",
       "\n",
       "    .dataframe tbody tr th {\n",
       "        vertical-align: top;\n",
       "    }\n",
       "\n",
       "    .dataframe thead th {\n",
       "        text-align: right;\n",
       "    }\n",
       "</style>\n",
       "<table border=\"1\" class=\"dataframe\">\n",
       "  <thead>\n",
       "    <tr style=\"text-align: right;\">\n",
       "      <th></th>\n",
       "      <th>Holiday</th>\n",
       "      <th>Cumulative Gross</th>\n",
       "      <th>% of Year</th>\n",
       "      <th>Releases</th>\n",
       "      <th>Average</th>\n",
       "      <th>#1 Release</th>\n",
       "      <th>Gross</th>\n",
       "      <th>% of Total</th>\n",
       "      <th>num_month</th>\n",
       "      <th>month</th>\n",
       "    </tr>\n",
       "  </thead>\n",
       "  <tbody>\n",
       "    <tr>\n",
       "      <th>0</th>\n",
       "      <td>Post-Thanksgiving Weekend</td>\n",
       "      <td>97203446</td>\n",
       "      <td>0.011</td>\n",
       "      <td>52</td>\n",
       "      <td>1869297</td>\n",
       "      <td>Renaissance: A Film by Beyoncé</td>\n",
       "      <td>21801216</td>\n",
       "      <td>0.224</td>\n",
       "      <td>11</td>\n",
       "      <td>November</td>\n",
       "    </tr>\n",
       "    <tr>\n",
       "      <th>1</th>\n",
       "      <td>Thanksgiving Weekend</td>\n",
       "      <td>116005630</td>\n",
       "      <td>0.014</td>\n",
       "      <td>54</td>\n",
       "      <td>2148252</td>\n",
       "      <td>The Hunger Games: The Ballad of Songbirds &amp; Sn...</td>\n",
       "      <td>29042517</td>\n",
       "      <td>0.250</td>\n",
       "      <td>11</td>\n",
       "      <td>November</td>\n",
       "    </tr>\n",
       "    <tr>\n",
       "      <th>2</th>\n",
       "      <td>Thanksgiving 4-Day Weekend</td>\n",
       "      <td>138550022</td>\n",
       "      <td>0.016</td>\n",
       "      <td>37</td>\n",
       "      <td>3744595</td>\n",
       "      <td>The Hunger Games: The Ballad of Songbirds &amp; Sn...</td>\n",
       "      <td>34924898</td>\n",
       "      <td>0.252</td>\n",
       "      <td>11</td>\n",
       "      <td>November</td>\n",
       "    </tr>\n",
       "    <tr>\n",
       "      <th>3</th>\n",
       "      <td>Thanksgiving</td>\n",
       "      <td>22728673</td>\n",
       "      <td>0.003</td>\n",
       "      <td>31</td>\n",
       "      <td>733183</td>\n",
       "      <td>The Hunger Games: The Ballad of Songbirds &amp; Sn...</td>\n",
       "      <td>5882381</td>\n",
       "      <td>0.259</td>\n",
       "      <td>11</td>\n",
       "      <td>November</td>\n",
       "    </tr>\n",
       "    <tr>\n",
       "      <th>4</th>\n",
       "      <td>Thanksgiving 5-Day Weekend</td>\n",
       "      <td>173203005</td>\n",
       "      <td>0.020</td>\n",
       "      <td>40</td>\n",
       "      <td>4330075</td>\n",
       "      <td>The Hunger Games: The Ballad of Songbirds &amp; Sn...</td>\n",
       "      <td>42206080</td>\n",
       "      <td>0.244</td>\n",
       "      <td>11</td>\n",
       "      <td>November</td>\n",
       "    </tr>\n",
       "  </tbody>\n",
       "</table>\n",
       "</div>"
      ],
      "text/plain": [
       "                      Holiday  Cumulative Gross  % of Year  Releases  Average  \\\n",
       "0   Post-Thanksgiving Weekend          97203446      0.011        52  1869297   \n",
       "1        Thanksgiving Weekend         116005630      0.014        54  2148252   \n",
       "2  Thanksgiving 4-Day Weekend         138550022      0.016        37  3744595   \n",
       "3                Thanksgiving          22728673      0.003        31   733183   \n",
       "4  Thanksgiving 5-Day Weekend         173203005      0.020        40  4330075   \n",
       "\n",
       "                                          #1 Release     Gross  % of Total  \\\n",
       "0                     Renaissance: A Film by Beyoncé  21801216       0.224   \n",
       "1  The Hunger Games: The Ballad of Songbirds & Sn...  29042517       0.250   \n",
       "2  The Hunger Games: The Ballad of Songbirds & Sn...  34924898       0.252   \n",
       "3  The Hunger Games: The Ballad of Songbirds & Sn...   5882381       0.259   \n",
       "4  The Hunger Games: The Ballad of Songbirds & Sn...  42206080       0.244   \n",
       "\n",
       "   num_month     month  \n",
       "0         11  November  \n",
       "1         11  November  \n",
       "2         11  November  \n",
       "3         11  November  \n",
       "4         11  November  "
      ]
     },
     "execution_count": 23,
     "metadata": {},
     "output_type": "execute_result"
    }
   ],
   "source": [
    "# Encode each holiday as a month\n",
    "# holiday month list\n",
    "month_list = []\n",
    "month_name_list = []\n",
    "\n",
    "# loop thru list\n",
    "for i in range(len(holiday_list)):\n",
    "    if i <= 4:\n",
    "        month_list.append(11)\n",
    "        month_name_list.append('November')\n",
    "    elif i <= 7:\n",
    "        month_list.append(10)\n",
    "        month_name_list.append('October')\n",
    "    elif i <= 9:\n",
    "        month_list.append(9)\n",
    "        month_name_list.append('September')\n",
    "    elif i <= 11:\n",
    "        month_list.append(7)\n",
    "        month_name_list.append('July')\n",
    "    elif i  <= 13:\n",
    "        month_list.append(5)\n",
    "        month_name_list.append('May')\n",
    "    elif i <= 15: \n",
    "        month_list.append(4)\n",
    "        month_name_list.append('April')\n",
    "    elif i <= 17: \n",
    "        month_list.append(2)\n",
    "        month_name_list.append('February')\n",
    "    else:\n",
    "        month_list.append(1)\n",
    "        month_name_list.append('January')\n",
    "        \n",
    "display(len(month_list))\n",
    "display(len(month_name_list))\n",
    "\n",
    "# Add lists to df as columns\n",
    "holiday_df['num_month'] = month_list\n",
    "holiday_df['month'] = month_name_list\n",
    "\n",
    "holiday_df.head()"
   ]
  },
  {
   "cell_type": "code",
   "execution_count": 24,
   "id": "fd461212-8edd-4caa-a3de-16e8886e5f25",
   "metadata": {
    "tags": []
   },
   "outputs": [
    {
     "data": {
      "text/plain": [
       "Index(['Holiday', 'Cumulative Gross', '% of Year', 'Releases', 'Average',\n",
       "       '#1 Release', 'Gross', '% of Total', 'num_month', 'month'],\n",
       "      dtype='object')"
      ]
     },
     "execution_count": 24,
     "metadata": {},
     "output_type": "execute_result"
    }
   ],
   "source": [
    "holiday_df.columns"
   ]
  },
  {
   "cell_type": "code",
   "execution_count": 25,
   "id": "e6f7d60b-c255-4fc1-980f-46227b6d4f42",
   "metadata": {
    "tags": []
   },
   "outputs": [
    {
     "data": {
      "text/plain": [
       "Index(['Holiday', 'Cumulative Gross', '% of Year', 'Releases', 'Average',\n",
       "       '#1 Release', 'Gross', '% of Total', 'num_month', 'month'],\n",
       "      dtype='object')"
      ]
     },
     "metadata": {},
     "output_type": "display_data"
    },
    {
     "data": {
      "text/plain": [
       "Index(['Holiday', 'month', 'num_month', 'Cumulative Gross', '% of Year',\n",
       "       'Releases', 'Average', '#1 Release', 'Gross', '% of Total'],\n",
       "      dtype='object')"
      ]
     },
     "metadata": {},
     "output_type": "display_data"
    }
   ],
   "source": [
    "# Rearrange order of columns\n",
    "display(holiday_df.columns)\n",
    "\n",
    "holiday_df = holiday_df[['Holiday', 'month', 'num_month', 'Cumulative Gross', '% of Year', 'Releases', 'Average',\n",
    "       '#1 Release', 'Gross', '% of Total']]\n",
    "\n",
    "display(holiday_df.columns)"
   ]
  },
  {
   "cell_type": "code",
   "execution_count": 26,
   "id": "847c20f9-dc04-455c-b157-1a57d0401ca9",
   "metadata": {
    "tags": []
   },
   "outputs": [],
   "source": [
    "# Rename the Columns \n",
    "# holiday_df.columns = ['holiday', 'month', 'num_month', 'cumulative_gross', 'percent_of_year', 'releases', 'average', 'top_release', 'gross', 'percent_of_total']\n",
    "\n",
    "# holiday_df.columns"
   ]
  },
  {
   "cell_type": "code",
   "execution_count": 27,
   "id": "94808093-f6cc-499a-aa87-1fe9d551c318",
   "metadata": {},
   "outputs": [],
   "source": [
    "# Export to csv\n",
    "holiday_df.to_csv('holiday_revenue_2023.csv')"
   ]
  },
  {
   "cell_type": "markdown",
   "id": "693fda7d-5d60-444b-8542-8a7aa856d0bc",
   "metadata": {},
   "source": [
    "### Top 200 Movies of Alltime"
   ]
  },
  {
   "cell_type": "code",
   "execution_count": 28,
   "id": "550ad484-aac5-4cdf-81d2-b84b41b0b28a",
   "metadata": {
    "tags": []
   },
   "outputs": [
    {
     "data": {
      "text/html": [
       "<div>\n",
       "<style scoped>\n",
       "    .dataframe tbody tr th:only-of-type {\n",
       "        vertical-align: middle;\n",
       "    }\n",
       "\n",
       "    .dataframe tbody tr th {\n",
       "        vertical-align: top;\n",
       "    }\n",
       "\n",
       "    .dataframe thead th {\n",
       "        text-align: right;\n",
       "    }\n",
       "</style>\n",
       "<table border=\"1\" class=\"dataframe\">\n",
       "  <thead>\n",
       "    <tr style=\"text-align: right;\">\n",
       "      <th></th>\n",
       "      <th>Title</th>\n",
       "      <th>Rank</th>\n",
       "      <th>Lifetime Gross</th>\n",
       "      <th>Overall Rank</th>\n",
       "      <th>Year</th>\n",
       "    </tr>\n",
       "  </thead>\n",
       "  <tbody>\n",
       "    <tr>\n",
       "      <th>0</th>\n",
       "      <td>Star Wars: Episode VII - The Force Awakens</td>\n",
       "      <td>1</td>\n",
       "      <td>$936,662,225</td>\n",
       "      <td>1</td>\n",
       "      <td>2015</td>\n",
       "    </tr>\n",
       "    <tr>\n",
       "      <th>1</th>\n",
       "      <td>Avengers: Endgame</td>\n",
       "      <td>2</td>\n",
       "      <td>$858,373,000</td>\n",
       "      <td>2</td>\n",
       "      <td>2019</td>\n",
       "    </tr>\n",
       "    <tr>\n",
       "      <th>2</th>\n",
       "      <td>Spider-Man: No Way Home</td>\n",
       "      <td>3</td>\n",
       "      <td>$814,115,070</td>\n",
       "      <td>3</td>\n",
       "      <td>2021</td>\n",
       "    </tr>\n",
       "  </tbody>\n",
       "</table>\n",
       "</div>"
      ],
      "text/plain": [
       "                                        Title  Rank Lifetime Gross  \\\n",
       "0  Star Wars: Episode VII - The Force Awakens     1   $936,662,225   \n",
       "1                           Avengers: Endgame     2   $858,373,000   \n",
       "2                     Spider-Man: No Way Home     3   $814,115,070   \n",
       "\n",
       "   Overall Rank  Year  \n",
       "0             1  2015  \n",
       "1             2  2019  \n",
       "2             3  2021  "
      ]
     },
     "execution_count": 28,
     "metadata": {},
     "output_type": "execute_result"
    }
   ],
   "source": [
    "top_200_alltime_df.head(3)"
   ]
  },
  {
   "cell_type": "code",
   "execution_count": 29,
   "id": "b599a7a2-6b3d-49c5-b51c-eea986c30191",
   "metadata": {
    "tags": []
   },
   "outputs": [
    {
     "name": "stdout",
     "output_type": "stream",
     "text": [
      "<class 'pandas.core.frame.DataFrame'>\n",
      "RangeIndex: 200 entries, 0 to 199\n",
      "Data columns (total 5 columns):\n",
      " #   Column          Non-Null Count  Dtype \n",
      "---  ------          --------------  ----- \n",
      " 0   Title           200 non-null    object\n",
      " 1   Rank            200 non-null    int64 \n",
      " 2   Lifetime Gross  200 non-null    object\n",
      " 3   Overall Rank    200 non-null    int64 \n",
      " 4   Year            200 non-null    int64 \n",
      "dtypes: int64(3), object(2)\n",
      "memory usage: 7.9+ KB\n"
     ]
    }
   ],
   "source": [
    "top_200_alltime_df.info()"
   ]
  },
  {
   "cell_type": "code",
   "execution_count": 30,
   "id": "9a9a1c27-7352-4715-92c9-132fff614291",
   "metadata": {
    "tags": []
   },
   "outputs": [],
   "source": [
    "alltime_df = top_200_alltime_df.copy()"
   ]
  },
  {
   "cell_type": "code",
   "execution_count": 31,
   "id": "3ea4a9fb-8e13-4121-ae08-faf4f77ebd3e",
   "metadata": {
    "tags": []
   },
   "outputs": [
    {
     "data": {
      "text/html": [
       "<div>\n",
       "<style scoped>\n",
       "    .dataframe tbody tr th:only-of-type {\n",
       "        vertical-align: middle;\n",
       "    }\n",
       "\n",
       "    .dataframe tbody tr th {\n",
       "        vertical-align: top;\n",
       "    }\n",
       "\n",
       "    .dataframe thead th {\n",
       "        text-align: right;\n",
       "    }\n",
       "</style>\n",
       "<table border=\"1\" class=\"dataframe\">\n",
       "  <thead>\n",
       "    <tr style=\"text-align: right;\">\n",
       "      <th></th>\n",
       "      <th>Title</th>\n",
       "      <th>Rank</th>\n",
       "      <th>Lifetime Gross</th>\n",
       "      <th>Overall Rank</th>\n",
       "      <th>Year</th>\n",
       "    </tr>\n",
       "  </thead>\n",
       "  <tbody>\n",
       "    <tr>\n",
       "      <th>0</th>\n",
       "      <td>Star Wars: Episode VII - The Force Awakens</td>\n",
       "      <td>1</td>\n",
       "      <td>936662225</td>\n",
       "      <td>1</td>\n",
       "      <td>2015</td>\n",
       "    </tr>\n",
       "    <tr>\n",
       "      <th>1</th>\n",
       "      <td>Avengers: Endgame</td>\n",
       "      <td>2</td>\n",
       "      <td>858373000</td>\n",
       "      <td>2</td>\n",
       "      <td>2019</td>\n",
       "    </tr>\n",
       "    <tr>\n",
       "      <th>2</th>\n",
       "      <td>Spider-Man: No Way Home</td>\n",
       "      <td>3</td>\n",
       "      <td>814115070</td>\n",
       "      <td>3</td>\n",
       "      <td>2021</td>\n",
       "    </tr>\n",
       "  </tbody>\n",
       "</table>\n",
       "</div>"
      ],
      "text/plain": [
       "                                        Title  Rank  Lifetime Gross  \\\n",
       "0  Star Wars: Episode VII - The Force Awakens     1       936662225   \n",
       "1                           Avengers: Endgame     2       858373000   \n",
       "2                     Spider-Man: No Way Home     3       814115070   \n",
       "\n",
       "   Overall Rank  Year  \n",
       "0             1  2015  \n",
       "1             2  2019  \n",
       "2             3  2021  "
      ]
     },
     "execution_count": 31,
     "metadata": {},
     "output_type": "execute_result"
    }
   ],
   "source": [
    "# Convert 'Lifetime Gross' column to integer type\n",
    "\n",
    "alltime_df['Lifetime Gross'] = alltime_df['Lifetime Gross'].str.replace(',', '')\n",
    "alltime_df['Lifetime Gross'] = alltime_df['Lifetime Gross'].str.replace('$', '')\n",
    "alltime_df['Lifetime Gross'] = alltime_df['Lifetime Gross'].astype('int64', copy=True)\n",
    "\n",
    "alltime_df.head(3)"
   ]
  },
  {
   "cell_type": "code",
   "execution_count": 32,
   "id": "e68a99e3-8546-41b2-80f5-fa6f2bf7c6f5",
   "metadata": {
    "tags": []
   },
   "outputs": [],
   "source": [
    "# Export to csv\n",
    "alltime_df.to_csv('top_200_alltime.csv')"
   ]
  }
 ],
 "metadata": {
  "kernelspec": {
   "display_name": "Python 3 (ipykernel)",
   "language": "python",
   "name": "python3"
  },
  "language_info": {
   "codemirror_mode": {
    "name": "ipython",
    "version": 3
   },
   "file_extension": ".py",
   "mimetype": "text/x-python",
   "name": "python",
   "nbconvert_exporter": "python",
   "pygments_lexer": "ipython3",
   "version": "3.10.13"
  }
 },
 "nbformat": 4,
 "nbformat_minor": 5
}
