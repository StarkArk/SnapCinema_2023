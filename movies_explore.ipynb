{
 "cells": [
  {
   "cell_type": "code",
   "execution_count": 1,
   "id": "7d558fc9-9cf4-4c18-a0b9-3b52d87fdc8d",
   "metadata": {
    "tags": []
   },
   "outputs": [],
   "source": [
    "import pandas as pd\n",
    "import numpy as np\n",
    "import seaborn as sns\n",
    "from bokeh.plotting import figure, output_file, output_notebook, show, ColumnDataSource\n",
    "from bokeh.models.tools import HoverTool\n",
    "from bokeh.transform import factor_cmap\n",
    "from bokeh.palettes import Blues8\n",
    "from bokeh.palettes import Inferno256\n",
    "from bokeh.layouts import row, gridplot\n"
   ]
  },
  {
   "cell_type": "code",
   "execution_count": 2,
   "id": "001b6cb6-fef3-4194-b72b-64556b77653d",
   "metadata": {
    "tags": []
   },
   "outputs": [],
   "source": [
    "# Read in the Data\n",
    "top_200_df = pd.read_csv('top_200_alltime.csv')\n",
    "\n",
    "top_200_df = top_200_df[['Title', 'Rank', 'Lifetime Gross', 'Overall Rank',\n",
    "       'Year']]"
   ]
  },
  {
   "cell_type": "code",
   "execution_count": 3,
   "id": "37e8ec87-4721-4567-840c-16fb24eecd16",
   "metadata": {
    "tags": []
   },
   "outputs": [
    {
     "name": "stdout",
     "output_type": "stream",
     "text": [
      "<class 'pandas.core.frame.DataFrame'>\n",
      "RangeIndex: 200 entries, 0 to 199\n",
      "Data columns (total 5 columns):\n",
      " #   Column          Non-Null Count  Dtype \n",
      "---  ------          --------------  ----- \n",
      " 0   Title           200 non-null    object\n",
      " 1   Rank            200 non-null    int64 \n",
      " 2   Lifetime Gross  200 non-null    int64 \n",
      " 3   Overall Rank    200 non-null    int64 \n",
      " 4   Year            200 non-null    int64 \n",
      "dtypes: int64(4), object(1)\n",
      "memory usage: 7.9+ KB\n"
     ]
    }
   ],
   "source": [
    "top_200_df.info()"
   ]
  },
  {
   "cell_type": "code",
   "execution_count": 4,
   "id": "db7eb732-819e-423d-a232-7426bc8bfa43",
   "metadata": {
    "tags": []
   },
   "outputs": [],
   "source": [
    "# top 200\n",
    "Titles = top_200_df['Title'].tolist()\n",
    "source = ColumnDataSource(top_200_df.copy())\n",
    "\n",
    "# top 20\n",
    "top_20_df = top_200_df[0:20]\n",
    "source20 = ColumnDataSource(top_20_df.copy())\n",
    "Titles20 = top_200_df['Title'].tolist()[0:20]"
   ]
  },
  {
   "cell_type": "code",
   "execution_count": 5,
   "id": "7b06e376-aa62-445f-afe0-65a24d85bed5",
   "metadata": {
    "tags": []
   },
   "outputs": [],
   "source": [
    "# Create a Layout\n",
    "# p1 = figure(y_range = Titles, x_axis_label = 'Lifetime Gross')\n",
    "p1 = figure(y_range = Titles, x_axis_label = 'Lifetime Gross')\n",
    "p1.hbar(y='Title', right='Lifetime Gross', left=0, height=0.1, fill_alpha = 0.8, source=source)\n",
    "\n",
    "p2 = figure(y_range = Titles20, x_axis_label = 'Lifetime Gross')\n",
    "p2.hbar(y='Title', right='Lifetime Gross', left=0, height=0.5, fill_alpha = 0.8, source=source20)\n",
    "\n",
    "# show(p1)\n",
    "# show(p2)\n",
    "show(gridplot([[p1], [p2]]))"
   ]
  },
  {
   "cell_type": "code",
   "execution_count": 6,
   "id": "9af315e1-29ab-44c4-826a-6ed6a815044c",
   "metadata": {
    "tags": []
   },
   "outputs": [
    {
     "data": {
      "text/html": [
       "<div>\n",
       "<style scoped>\n",
       "    .dataframe tbody tr th:only-of-type {\n",
       "        vertical-align: middle;\n",
       "    }\n",
       "\n",
       "    .dataframe tbody tr th {\n",
       "        vertical-align: top;\n",
       "    }\n",
       "\n",
       "    .dataframe thead th {\n",
       "        text-align: right;\n",
       "    }\n",
       "</style>\n",
       "<table border=\"1\" class=\"dataframe\">\n",
       "  <thead>\n",
       "    <tr style=\"text-align: right;\">\n",
       "      <th></th>\n",
       "      <th>Title</th>\n",
       "      <th>Rank</th>\n",
       "      <th>Lifetime Gross</th>\n",
       "      <th>Overall Rank</th>\n",
       "      <th>Year</th>\n",
       "    </tr>\n",
       "  </thead>\n",
       "  <tbody>\n",
       "    <tr>\n",
       "      <th>0</th>\n",
       "      <td>Star Wars: Episode VII - The Force Awakens</td>\n",
       "      <td>1</td>\n",
       "      <td>936662225</td>\n",
       "      <td>1</td>\n",
       "      <td>2015</td>\n",
       "    </tr>\n",
       "    <tr>\n",
       "      <th>1</th>\n",
       "      <td>Avengers: Endgame</td>\n",
       "      <td>2</td>\n",
       "      <td>858373000</td>\n",
       "      <td>2</td>\n",
       "      <td>2019</td>\n",
       "    </tr>\n",
       "    <tr>\n",
       "      <th>2</th>\n",
       "      <td>Spider-Man: No Way Home</td>\n",
       "      <td>3</td>\n",
       "      <td>814115070</td>\n",
       "      <td>3</td>\n",
       "      <td>2021</td>\n",
       "    </tr>\n",
       "    <tr>\n",
       "      <th>3</th>\n",
       "      <td>Avatar</td>\n",
       "      <td>4</td>\n",
       "      <td>785221649</td>\n",
       "      <td>4</td>\n",
       "      <td>2009</td>\n",
       "    </tr>\n",
       "    <tr>\n",
       "      <th>4</th>\n",
       "      <td>Top Gun: Maverick</td>\n",
       "      <td>5</td>\n",
       "      <td>718732821</td>\n",
       "      <td>5</td>\n",
       "      <td>2022</td>\n",
       "    </tr>\n",
       "  </tbody>\n",
       "</table>\n",
       "</div>"
      ],
      "text/plain": [
       "                                        Title  Rank  Lifetime Gross  \\\n",
       "0  Star Wars: Episode VII - The Force Awakens     1       936662225   \n",
       "1                           Avengers: Endgame     2       858373000   \n",
       "2                     Spider-Man: No Way Home     3       814115070   \n",
       "3                                      Avatar     4       785221649   \n",
       "4                           Top Gun: Maverick     5       718732821   \n",
       "\n",
       "   Overall Rank  Year  \n",
       "0             1  2015  \n",
       "1             2  2019  \n",
       "2             3  2021  \n",
       "3             4  2009  \n",
       "4             5  2022  "
      ]
     },
     "execution_count": 6,
     "metadata": {},
     "output_type": "execute_result"
    }
   ],
   "source": [
    "top_200_df.head()"
   ]
  },
  {
   "cell_type": "code",
   "execution_count": null,
   "id": "0ef73f38-d0b1-4867-91f5-d0268a6ecb6b",
   "metadata": {},
   "outputs": [],
   "source": [
    "# p1 = figure(y_range = Titles, x_axis_label = 'Lifetime Gross')\n",
    "# # p1.y_range.flipped = True\n",
    "# p1.hbar(y='Title', right='Lifetime Gross', left=0, height=0.1, \n",
    "#         # fill_color = factor_cmap(\n",
    "#         #     'Rank',\n",
    "#         #     palette = Inferno256,\n",
    "#         #     factors = Rank\n",
    "#         # ),\n",
    "#         fill_alpha = 0.8,\n",
    "#         source=source)\n",
    "# # p1.y_range.flipped = True\n",
    "\n",
    "# show(p1)"
   ]
  },
  {
   "cell_type": "code",
   "execution_count": 8,
   "id": "de1e15ec-e44c-44b3-800a-e937469304d0",
   "metadata": {
    "tags": []
   },
   "outputs": [],
   "source": [
    "# df = top_200_df[0:20]\n",
    "# source20 = ColumnDataSource(df.copy())\n",
    "# Titles20 = top_200_df['Title'].tolist()[0:20]\n",
    "\n",
    "# p2 = figure(y_range = Titles20, x_axis_label = 'Lifetime Gross')\n",
    "# # p1.y_range.flipped = True\n",
    "# p2.hbar(y='Title', right='Lifetime Gross', left=0, height=0.5, \n",
    "#         # fill_color = factor_cmap(\n",
    "#         #     'Rank',\n",
    "#         #     palette = Inferno256,\n",
    "#         #     factors = Rank\n",
    "#         # ),\n",
    "#         fill_alpha = 0.8,\n",
    "#         source=source20)\n",
    "# # p1.y_range.flipped = True\n",
    "\n",
    "# show(p2)"
   ]
  }
 ],
 "metadata": {
  "kernelspec": {
   "display_name": "Python 3 (ipykernel)",
   "language": "python",
   "name": "python3"
  },
  "language_info": {
   "codemirror_mode": {
    "name": "ipython",
    "version": 3
   },
   "file_extension": ".py",
   "mimetype": "text/x-python",
   "name": "python",
   "nbconvert_exporter": "python",
   "pygments_lexer": "ipython3",
   "version": "3.10.13"
  }
 },
 "nbformat": 4,
 "nbformat_minor": 5
}
